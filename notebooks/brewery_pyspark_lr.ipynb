{
 "cells": [
  {
   "cell_type": "code",
   "execution_count": 1,
   "metadata": {},
   "outputs": [],
   "source": [
    "from pyspark.sql import SparkSession\n",
    "from pyspark.sql.functions import col\n",
    "from pyspark.sql.types import FloatType\n",
    "from pyspark.sql.functions import col, date_format, to_timestamp\n",
    "from pyspark.ml.feature import StringIndexer, OneHotEncoder\n",
    "from pyspark.ml.feature import VectorAssembler\n",
    "from pyspark.ml.regression import LinearRegression\n",
    "from pyspark.ml.evaluation import RegressionEvaluator\n",
    "from pyspark.ml import Pipeline\n"
   ]
  },
  {
   "cell_type": "code",
   "execution_count": 2,
   "metadata": {},
   "outputs": [],
   "source": [
    "spark = SparkSession.builder.appName(\"Beer analysis\").getOrCreate()\n",
    "\n",
    "train = spark.read.csv(\n",
    "    # \"gs://shaun05122024/brewery_data_complete_extended.csv\",\n",
    "    \"data/15_percent_validation_data.csv\",\n",
    "    header=True,\n",
    "    inferSchema=True,\n",
    ")"
   ]
  },
  {
   "cell_type": "code",
   "execution_count": 3,
   "metadata": {},
   "outputs": [
    {
     "data": {
      "text/plain": [
       "1500000"
      ]
     },
     "execution_count": 3,
     "metadata": {},
     "output_type": "execute_result"
    }
   ],
   "source": [
    "train.count()"
   ]
  },
  {
   "cell_type": "code",
   "execution_count": 4,
   "metadata": {},
   "outputs": [],
   "source": [
    "train = train.dropDuplicates()\n",
    "train = train.na.drop()"
   ]
  },
  {
   "cell_type": "code",
   "execution_count": 5,
   "metadata": {},
   "outputs": [],
   "source": [
    "train = train.withColumn(\"Total_Sales\", col(\"Total_Sales\").cast(FloatType()))\n",
    "\n",
    "train = train.withColumn(\n",
    "    \"Brew_Date\", to_timestamp(col(\"Brew_Date\"), \"yyyy-MM-dd HH:mm:ss\")\n",
    ")\n",
    "train = (\n",
    "    train.withColumn(\"Month\", date_format(col(\"Brew_Date\"), \"MM\"))\n",
    "    .withColumn(\"Day\", date_format(col(\"Brew_Date\"), \"dd\"))\n",
    "    .withColumn(\"Year\", date_format(col(\"Brew_Date\"), \"yyyy\"))\n",
    ")"
   ]
  },
  {
   "cell_type": "code",
   "execution_count": 6,
   "metadata": {},
   "outputs": [
    {
     "name": "stdout",
     "output_type": "stream",
     "text": [
      "+--------+-------------------+----------+-------+-----------+-----------------+------------------+-----------------+------------------+-----------------+----------+-----+----------------+---------------+-----------+-----------------+--------------------+-------------------+------------------------+----------------------------+-----+---+----+\n",
      "|Batch_ID|          Brew_Date|Beer_Style|    SKU|   Location|Fermentation_Time|       Temperature|         pH_Level|           Gravity|  Alcohol_Content|Bitterness|Color|Ingredient_Ratio|Volume_Produced|Total_Sales|    Quality_Score|Brewhouse_Efficiency|Loss_During_Brewing|Loss_During_Fermentation|Loss_During_Bottling_Kegging|Month|Day|Year|\n",
      "+--------+-------------------+----------+-------+-----------+-----------------+------------------+-----------------+------------------+-----------------+----------+-----+----------------+---------------+-----------+-----------------+--------------------+-------------------+------------------------+----------------------------+-----+---+----+\n",
      "| 6181063|2022-10-19 21:40:58|     Stout|   Cans| Whitefield|               18|19.623812574740242|5.258200631952828|1.0319631418227955|4.940378934167819|        20|    9|     1:0.46:0.17|           3417|  13094.332|8.519030793894213|   75.78042870155281| 3.4120533269021873|        3.07448160455135|          3.6611006761517886|   10| 19|2022|\n",
      "| 4629511|2022-10-19 22:08:16|      Sour|Bottles|Koramangala|               12|20.724607964616446|4.847029332841724|1.0426939072423025|5.536872395713765|        42|   19|     1:0.40:0.29|           1617|  19907.666| 9.87402906985961|   75.12066824442418|  1.504568805410143|       2.744205917997349|          1.0577279409451887|   10| 19|2022|\n",
      "| 3268525|2022-10-20 00:57:24|     Stout|  Pints|  Yelahanka|               13|23.271108587362324|5.284262889458622|1.0325680412215874|5.340520097690525|        39|    9|     1:0.33:0.26|           1551|   9288.131|6.263467760207739|   88.49658321327279| 1.9492664717052213|      1.2590323738109368|           4.502814511908381|   10| 20|2022|\n",
      "+--------+-------------------+----------+-------+-----------+-----------------+------------------+-----------------+------------------+-----------------+----------+-----+----------------+---------------+-----------+-----------------+--------------------+-------------------+------------------------+----------------------------+-----+---+----+\n",
      "only showing top 3 rows\n",
      "\n"
     ]
    }
   ],
   "source": [
    "train.show(3)"
   ]
  },
  {
   "cell_type": "code",
   "execution_count": 7,
   "metadata": {},
   "outputs": [],
   "source": [
    "categoricalColumns = ['Beer_Style', 'SKU', 'Location']"
   ]
  },
  {
   "cell_type": "code",
   "execution_count": 8,
   "metadata": {},
   "outputs": [],
   "source": [
    "stages = []\n",
    "for categoricalCol in categoricalColumns:\n",
    "    stringIndexer = StringIndexer(inputCol=categoricalCol, outputCol=categoricalCol + \"Index\")\n",
    "    encoder = OneHotEncoder(inputCols=[stringIndexer.getOutputCol()], outputCols=[categoricalCol + \"OHE\"])\n",
    "    stages += [stringIndexer, encoder]"
   ]
  },
  {
   "cell_type": "code",
   "execution_count": 9,
   "metadata": {},
   "outputs": [],
   "source": [
    "numeric_columns = ['Fermentation_Time', 'Temperature', 'pH_Level', 'Gravity', 'Alcohol_Content', 'Bitterness', 'Color', 'Volume_Produced', 'Quality_Score', 'Brewhouse_Efficiency', 'Loss_During_Brewing', 'Loss_During_Fermentation', 'Loss_During_Bottling_Kegging']"
   ]
  },
  {
   "cell_type": "code",
   "execution_count": 10,
   "metadata": {},
   "outputs": [],
   "source": [
    "assemblerInputs = [c + \"OHE\" for c in categoricalColumns] + numeric_columns"
   ]
  },
  {
   "cell_type": "code",
   "execution_count": 11,
   "metadata": {},
   "outputs": [],
   "source": [
    "assembler = VectorAssembler(\n",
    "    inputCols=assemblerInputs,\n",
    "    outputCol=\"features\",\n",
    ")\n",
    "stages += [assembler]"
   ]
  },
  {
   "cell_type": "code",
   "execution_count": 12,
   "metadata": {},
   "outputs": [],
   "source": [
    "train_data, test_data = train.randomSplit([0.8, 0.2], seed=42)"
   ]
  },
  {
   "cell_type": "code",
   "execution_count": 13,
   "metadata": {},
   "outputs": [],
   "source": [
    "rf = LinearRegression(featuresCol=\"features\", labelCol=\"Total_Sales\")\n",
    "stages += [rf]"
   ]
  },
  {
   "cell_type": "code",
   "execution_count": 14,
   "metadata": {},
   "outputs": [],
   "source": [
    "pipeline = Pipeline(stages=stages)"
   ]
  },
  {
   "cell_type": "code",
   "execution_count": 15,
   "metadata": {},
   "outputs": [],
   "source": [
    "model = pipeline.fit(train_data)"
   ]
  },
  {
   "cell_type": "code",
   "execution_count": 17,
   "metadata": {},
   "outputs": [
    {
     "name": "stdout",
     "output_type": "stream",
     "text": [
      "Root Mean Squared Error (RMSE) on test data = 5489.715745223387\n",
      "Mean Squared Error on test data = 30136978.96335357\n"
     ]
    }
   ],
   "source": [
    "predictions = model.transform(test_data)\n",
    "\n",
    "evaluator = RegressionEvaluator(\n",
    "    labelCol=\"Total_Sales\", predictionCol=\"prediction\", metricName=\"rmse\"\n",
    ")\n",
    "rmse = evaluator.evaluate(predictions)\n",
    "print(f\"Root Mean Squared Error (RMSE) on test data = {rmse}\")\n",
    "\n",
    "evaluator = RegressionEvaluator(\n",
    "    labelCol=\"Total_Sales\", predictionCol=\"prediction\", metricName=\"mse\"\n",
    ")\n",
    "\n",
    "mse = evaluator.evaluate(predictions)\n",
    "print(f\"Mean Squared Error on test data = {mse}\")"
   ]
  },
  {
   "cell_type": "code",
   "execution_count": null,
   "metadata": {},
   "outputs": [],
   "source": []
  }
 ],
 "metadata": {
  "application/vnd.databricks.v1+notebook": {
   "dashboards": [],
   "language": "python",
   "notebookMetadata": {
    "pythonIndentUnit": 4
   },
   "notebookName": "latest (11)",
   "widgets": {}
  },
  "kernelspec": {
   "display_name": "stevens",
   "language": "python",
   "name": "python3"
  },
  "language_info": {
   "codemirror_mode": {
    "name": "ipython",
    "version": 3
   },
   "file_extension": ".py",
   "mimetype": "text/x-python",
   "name": "python",
   "nbconvert_exporter": "python",
   "pygments_lexer": "ipython3",
   "version": "3.11.5"
  }
 },
 "nbformat": 4,
 "nbformat_minor": 0
}
